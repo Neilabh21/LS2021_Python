{
  "nbformat": 4,
  "nbformat_minor": 5,
  "metadata": {
    "kernelspec": {
      "name": "python3",
      "display_name": "Python 3",
      "language": "python"
    },
    "language_info": {
      "name": "python",
      "version": "3.6.13",
      "mimetype": "text/x-python",
      "codemirror_mode": {
        "name": "ipython",
        "version": 3
      },
      "pygments_lexer": "ipython3",
      "nbconvert_exporter": "python",
      "file_extension": ".py"
    },
    "colab": {
      "name": "AssignmentForSnippetCompletion.ipynb",
      "provenance": []
    }
  },
  "cells": [
    {
      "cell_type": "markdown",
      "metadata": {
        "id": "mwY8-ebWnn8k"
      },
      "source": [
        "# Assignment: Complete the Snippet\n",
        "---\n",
        "## 170010014\n",
        "## Neilabh Banzal\n",
        "\n",
        "\n"
      ],
      "id": "mwY8-ebWnn8k"
    },
    {
      "cell_type": "markdown",
      "metadata": {
        "id": "98h1wLbDnn8n"
      },
      "source": [
        "Shubh started building a basic Python Script which goes through the entire text of a particular book and mugs up all its words. After that it asks you for a word, goes over the times when this word came in the text and gives you the complete sentence in which it was used. You may choose to ask for as many such sentences as the number of occurences of the word.\n",
        "\n",
        "He's managed to come up with the part where he loads the file into Memory. He also managed to come up with snippets of code which could potentially do something if completed, but he has many deadlines to look after and not enough caffeine to turn to code. Can you help him?"
      ],
      "id": "98h1wLbDnn8n"
    },
    {
      "cell_type": "code",
      "metadata": {
        "trusted": true,
        "id": "W2FPoG_Lnn8n"
      },
      "source": [
        "File = open(\"HarryPotterAndTheSorcerersStone.txt\",'r', encoding='UTF-8')        # This helps in opening the file which is to be read"
      ],
      "id": "W2FPoG_Lnn8n",
      "execution_count": 1,
      "outputs": []
    },
    {
      "cell_type": "markdown",
      "metadata": {
        "id": "6n2G1L6qnn8o"
      },
      "source": [
        "Next he makes a list of all the words present in the novel mapping them to their index(position) in the list of words (i.e. ListOfWords). This is done by mapping every word (a string) to a list (list of indices), and this is stored as a Dictionary (DictionaryoOfWords)\n",
        "\n",
        "\n",
        "\n",
        "He makes use of the readlines() method which is used to extract all the lines from any text and the split() function which could be used to split any sentence into distinct words. The replace() method is used on strings to replace certain segments of the string with something else."
      ],
      "id": "6n2G1L6qnn8o"
    },
    {
      "cell_type": "code",
      "metadata": {
        "id": "3xoNWt2VE-Y4"
      },
      "source": [
        "DictionaryOfWords = {}         # Dictionary mapping every word to a list (of indices of the words' occurences)\n",
        "Novel = []                     # List of all words in the order, in which they appear!"
      ],
      "id": "3xoNWt2VE-Y4",
      "execution_count": 2,
      "outputs": []
    },
    {
      "cell_type": "code",
      "metadata": {
        "trusted": true,
        "id": "wuz-iSaonn8o"
      },
      "source": [
        "i = 0                                                                           # Counter Variable to keep track of index of words\n",
        "\n",
        "for line in File.readlines():                                                   # Iterate over all lines present in the text\n",
        "    # Look at Python's Conciseness!\n",
        "    line = line.replace(\".\",\"\").replace(\",\",\"\").replace('?','').replace('!','').replace('[','').replace(']','')\\\n",
        "    .replace('(','').replace(')','').replace('%','').replace('/','').replace('\\n','')\n",
        "      \n",
        "    # COMPLETE THE CODE FROM HERE:\n",
        "    \n",
        "    # This would split the line into many different words, and iterate over these words\n",
        "    for word in line.split(' '):                                                           \n",
        "        if word in DictionaryOfWords.keys():                                    # If the word is already present in the dictionary                                                        \n",
        "            DictionaryOfWords[word].append(i)                                   # Add the index into the pre-existing list for this word                                                         \n",
        "        else:\n",
        "            DictionaryOfWords[word] = [i]                                       # Create a new list of indices for this word, with a single element\n",
        "                                                                             \n",
        "        Novel.append(word)                                                      # Add the Word in the Novel's ordered list of words                                                               \n",
        "        i+=1"
      ],
      "id": "wuz-iSaonn8o",
      "execution_count": 3,
      "outputs": []
    },
    {
      "cell_type": "markdown",
      "metadata": {
        "id": "7Q0xPLDynn8o"
      },
      "source": [
        "That guy truly left a lot of work for you!\n",
        "\n",
        "Now that you've done that, We have the words in the novel alongwith where they appeared in the text loaded into memory (Thanks to You!).\n",
        "\n",
        "The Next Step would be to answer any queries the user may have.\n",
        "\n",
        "To do this, we define the function GetQuery() which returns the word as well as the number of results the user wants to see (as a tuple):\n",
        "\n"
      ],
      "id": "7Q0xPLDynn8o"
    },
    {
      "cell_type": "code",
      "metadata": {
        "trusted": true,
        "id": "rZdPHcyZnn8p"
      },
      "source": [
        "#COMPLETE THE CODE FROM HERE:\n",
        "\n",
        "def GetQuery():\n",
        "    word = input(\"Enter your word: \")                                           # Get Input from the user regarding what word s/he wants to query for\n",
        "    Number = int(input(\"Enter the no. of results: \"))                           # Get Input from the user regarding how many results the user wants to see\n",
        "    return word, Number                                                         # Return as output a tuple of the word and the Number of results       "
      ],
      "id": "rZdPHcyZnn8p",
      "execution_count": 4,
      "outputs": []
    },
    {
      "cell_type": "markdown",
      "metadata": {
        "id": "f0ExNn2Hnn8p"
      },
      "source": [
        "Now, We need a function which takes as input the index of any particular word and prints the words surrounding it as if they were in an actual sentence. \n",
        "\n",
        "This is done by iterating over the words surrounding it, and printing them with gaps in between. We also assume that this occurence isn't a boundary case and thus, the 10 words surronding it actually exist."
      ],
      "id": "f0ExNn2Hnn8p"
    },
    {
      "cell_type": "code",
      "metadata": {
        "trusted": true,
        "id": "NFjuNsIjnn8q"
      },
      "source": [
        "def PrintContext(index):\n",
        "    global Novel                                                                # Declares the list Novel as a Global Variable\n",
        "    \n",
        "    #COMPLETE THE CODE FROM HERE:\n",
        "    for i in range(index - 5, index + 6) :                                     # Define the range so that the task above is fulfilled\n",
        "        print(Novel[i], end = ' ')                                              # Print the word (using List Indexing) with a space after that\n",
        "\n",
        "    print('\\n')"
      ],
      "id": "NFjuNsIjnn8q",
      "execution_count": 5,
      "outputs": []
    },
    {
      "cell_type": "markdown",
      "metadata": {
        "id": "WaT0_Nsxnn8q"
      },
      "source": [
        "The result of the GetQuery() function will be passed into a second function which would take as input the word and the number of results to be displayed and do so!"
      ],
      "id": "WaT0_Nsxnn8q"
    },
    {
      "cell_type": "code",
      "metadata": {
        "trusted": true,
        "id": "lJe_w2C0nn8r"
      },
      "source": [
        "def PrintResult(word, NumQuery):\n",
        "    global DictionaryOfWords                                                    # Allows us to use the Dictionary as a global variable\n",
        "    \n",
        "    #COMPLETE THE CODE FROM HERE:\n",
        "    L = DictionaryOfWords[word] \n",
        "    \n",
        "    for i in range(0, min(len(L), NumQuery)):\n",
        "        PrintContext(L[i])                                                      # Actually print the words surrounding the ith occurence of the given word\n",
        "    print('\\n\\n\\n')"
      ],
      "id": "lJe_w2C0nn8r",
      "execution_count": 6,
      "outputs": []
    },
    {
      "cell_type": "markdown",
      "metadata": {
        "id": "JRNRUKLTnn8s"
      },
      "source": [
        "Finally, you need an infinite loop which runs until the user wants it to and asks for the next word (if the user wants to query more) or end the loop."
      ],
      "id": "JRNRUKLTnn8s"
    },
    {
      "cell_type": "code",
      "metadata": {
        "trusted": true,
        "id": "b5LvL0TQnn8s",
        "colab": {
          "base_uri": "https://localhost:8080/"
        },
        "outputId": "aeccfc7c-d89c-4baf-d899-651f3671cb31"
      },
      "source": [
        "while 1>0 :   \n",
        "    Choice = input(\"Press Y in order to Continue with the next query or N to end. \\nPlease press Enter after entering your choice!\")\n",
        "    \n",
        "    #COMPLETE THE CODE FROM HERE:\n",
        "    if Choice == 'Y':                                                           # If the user wants to query \n",
        "        qry = GetQuery()\n",
        "        PrintResult(qry[0], qry[1])                                             # Use some of the past defined function to do so\n",
        "    else:\n",
        "        break                                                                   # Else end the loop"
      ],
      "id": "b5LvL0TQnn8s",
      "execution_count": 7,
      "outputs": [
        {
          "output_type": "stream",
          "text": [
            "Press Y in order to Continue with the next query or N to end. \n",
            "Please press Enter after entering your choice!Y\n",
            "Enter your word: Harry\n",
            "Enter the no. of results: 25\n",
            " “— yes their son Harry —”  Mr Dursley stopped \n",
            "\n",
            "who had a son called Harry Come to think of it \n",
            "\n",
            "sure his nephew was called Harry He’d never even seen the \n",
            "\n",
            "to kill the Potters’ son Harry But — he couldn’t He \n",
            "\n",
            "that when he couldn’t kill Harry Potter Yoldemort’s power somehow broke \n",
            "\n",
            "the name of heaven did Harry survive”  “We can only \n",
            "\n",
            " “I’ve come to bring Harry to his aunt and uncle \n",
            "\n",
            "the street screaming for sweets Harry Potter come and live here” \n",
            "\n",
            "if today was known as Harry Potter Day in the future \n",
            "\n",
            "will be books written about Harry — every child in our \n",
            "\n",
            "thought he might be hiding Harry underneath it  “Hagrid’s bringing \n",
            "\n",
            "over with”  Dumbledore took Harry in his arms and turned \n",
            "\n",
            "his great shaggy head over Harry and gave him what must \n",
            "\n",
            "dead — an’ poor little Harry off ter live with Muggles \n",
            "\n",
            "the front door He laid Harry gently on the doorstep took \n",
            "\n",
            "expect astonishing things to happen Harry Potter rolled over inside his \n",
            "\n",
            "saying in hushed voices: “To Harry Potter — the boy who \n",
            "\n",
            "* *   Yet Harry Potter was still there asleep \n",
            "\n",
            "“Up Get up Now”  Harry woke with a start His \n",
            "\n",
            "again  “Up” she screeched Harry heard her walking toward the \n",
            "\n",
            "she demanded  “Nearly” said Harry  “Well get a move \n",
            "\n",
            "perfect on Duddy’s birthday”  Harry groaned  “What did you \n",
            "\n",
            "how could he have forgotten Harry got slowly out of bed \n",
            "\n",
            "of them put them on Harry was used to spiders because \n",
            "\n",
            "bike was a mystery to Harry as Dudley was very fat \n",
            "\n",
            "\n",
            "\n",
            "\n",
            "\n",
            "Press Y in order to Continue with the next query or N to end. \n",
            "Please press Enter after entering your choice!Y\n",
            "Enter your word: Petunia\n",
            "Enter the no. of results: 20\n",
            "his throat nervously “Er — Petunia dear — you haven’t heard \n",
            "\n",
            "very well what he and Petunia thought about them and their \n",
            "\n",
            "couldn’t see how he and Petunia could get mixed up in \n",
            "\n",
            "not for long His Aunt Petunia was awake and it was \n",
            "\n",
            "ever remember asking his Aunt Petunia was how he had gotten \n",
            "\n",
            "his thick fat head Aunt Petunia often said that Dudley looked \n",
            "\n",
            "the table over  Aunt Petunia obviously scented danger too because \n",
            "\n",
            " “Thirty-nine sweetums” said Aunt Petunia  “Oh” Dudley sat down \n",
            "\n",
            "the telephone rang and Aunt Petunia went to answer it while \n",
            "\n",
            "a gold wristwatch when Aunt Petunia came back from the telephone \n",
            "\n",
            " “Now what” said Aunt Petunia looking furiously at Harry as \n",
            "\n",
            "vacation in Majorca” snapped Aunt Petunia  “You could just leave \n",
            "\n",
            "on Dudley’s computer  Aunt Petunia looked as though she’d just \n",
            "\n",
            "to the zoo” said Aunt Petunia slowly “   and \n",
            "\n",
            "Lord they’re here” said Aunt Petunia frantically — and a moment \n",
            "\n",
            "them happen  Once Aunt Petunia tired of Harry coming back \n",
            "\n",
            "quickly  Another time Aunt Petunia had been trying to force \n",
            "\n",
            "certainly wouldn’t fit Harry Aunt Petunia had decided it must  \n",
            "\n",
            "Uncle Vernon complained to Aunt Petunia He liked to complain about \n",
            "\n",
            "zoo director himself made Aunt Petunia a cup of strong sweet \n",
            "\n",
            "\n",
            "\n",
            "\n",
            "\n",
            "Press Y in order to Continue with the next query or N to end. \n",
            "Please press Enter after entering your choice!Y\n",
            "Enter your word: magic\n",
            "Enter the no. of results: 10\n",
            "— not supposed ter do magic strictly speakin’ I was allowed \n",
            "\n",
            "this Not s’pposed ter use magic now I’ve got yeh”  \n",
            "\n",
            "Harry eager to see more magic Hagrid pulled out the pink \n",
            "\n",
            "Blimey Harry everyone’d be wantin’ magic solutions to their problems Nah \n",
            "\n",
            "it could sell you a magic wand This was just an \n",
            "\n",
            "you”  “What sort of magic do you teach Professor Quirrell” \n",
            "\n",
            "gets drunk tries to do magic and ends up setting fire \n",
            "\n",
            "were the only ones with magic in ’em in a long \n",
            "\n",
            "but yer not ter use magic in the Muggle world except \n",
            "\n",
            "the best wand”  A magic wand    this \n",
            "\n",
            "\n",
            "\n",
            "\n",
            "\n",
            "Press Y in order to Continue with the next query or N to end. \n",
            "Please press Enter after entering your choice!Y\n",
            "Enter your word: Dumbledore\n",
            "Enter the no. of results: 20\n",
            "This man’s name was Albus Dumbledore   4 8 4 \n",
            "\n",
            "* *   Albus Dumbledore didn’t seem to realize that \n",
            "\n",
            "happening down on the pavement Dumbledore slipped the Put-Outer back inside \n",
            "\n",
            "“You can’t blame them” said Dumbledore gently “We’ve had precious little \n",
            "\n",
            "a sharp sideways glance at Dumbledore here as though hoping he \n",
            "\n",
            "“It certainly seems so” said Dumbledore “We have much to be \n",
            "\n",
            " “You flatter me” said Dumbledore calmly “Voldemort had powers I \n",
            "\n",
            "shot a sharp look at Dumbledore and said “The owls are \n",
            "\n",
            "a woman had she fixed Dumbledore with such a piercing stare \n",
            "\n",
            " to believe it until Dumbledore told her it was true \n",
            "\n",
            "told her it was true Dumbledore however was choosing another lemon \n",
            "\n",
            "that they’re — dead  Dumbledore bowed his head Professor McGonagall \n",
            "\n",
            "Albus   ”  Dumbledore reached out and patted her \n",
            "\n",
            "that’s why he’s gone”  Dumbledore nodded glumly  “It’s — \n",
            "\n",
            "“We can only guess” said Dumbledore “We may never know”  \n",
            "\n",
            "her eyes beneath her spectacles Dumbledore gave a great sniff as \n",
            "\n",
            "  made sense to Dumbledore though because he put it \n",
            "\n",
            "best place for him” said Dumbledore firmly “His aunt and uncle \n",
            "\n",
            "down on the wall “Really Dumbledore you think you can explain \n",
            "\n",
            "his name”  “Exactly” said Dumbledore looking very seriously over the \n",
            "\n",
            "\n",
            "\n",
            "\n",
            "\n",
            "Press Y in order to Continue with the next query or N to end. \n",
            "Please press Enter after entering your choice!N\n"
          ],
          "name": "stdout"
        }
      ]
    }
  ]
}